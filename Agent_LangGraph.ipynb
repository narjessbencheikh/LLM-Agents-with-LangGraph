{
 "cells": [
  {
   "cell_type": "markdown",
   "id": "6356215c-26dd-4768-86dd-ee6e9cf5d3e3",
   "metadata": {},
   "source": [
    "# Création d'un Agent avec LangGraph\n",
    "\n",
    "Dans ce notebook, nous allons créer un agent intelligent capable d'interagir avec un modèle de langage, d'utiliser des outils externes, et de traiter des questions de manière automatique. Vous utiliserez LangGraph pour construire un agent doté de logique conditionnelle et capable d'exécuter plusieurs actions. Nous allons vous guider pas à pas à travers chaque étape pour vous assurer de bien comprendre les concepts abordés.\n",
    "\n",
    "**Objectif :** Créer un agent autonome avec LangGraph.\n",
    "\n",
    "#### 0. Préparation\n",
    "\n",
    "Dans ce notebook, nous utiliserons l'API Groq, vous devez vous inscrire sur [**Groq**](https://console.groq.com/login/) et [**récupérer une clé d'API**](https://console.groq.com/keys).   \n",
    "\n",
    "*Optionnel : Pour surveiller les appels faits aux modèles LLMs, nous vous conseillons aussi d'utiliser LangSmith. Vous devrez [**générer une clé d'API LangSmith**](https://smith.langchain.com/settings) puis activer le traçage.\n",
    "\n",
    "Nous aurons aussi besoin d'une clé d'API pour le Tavily, vous devrez [**vous inscrire et récupérer une clé d'API**](https://app.tavily.com/)\n",
    "\n",
    "Une fois les clés obtenues, ajoutez-les à vos variables d'environnement :\n"
   ]
  },
  {
   "cell_type": "code",
   "execution_count": 1,
   "id": "55e0df0e-500a-4d7e-a799-7b943ffb4f70",
   "metadata": {},
   "outputs": [],
   "source": [
    "import os\n",
    "\n",
    "# Remplacez \"<votre_cle_openai>\" par votre clé API OpenAI\n",
    "os.environ[\"GROQ_API_KEY\"] = \"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\"\n",
    "\n",
    "# Remplacez \"<votre_cle_langsmith>\" par votre clé API LangSmith\n",
    "#os.environ['LANGCHAIN_TRACING_V2'] = \"true\"\n",
    "#os.environ['LANGCHAIN_API_KEY'] = \"<votre_cle_langsmith>\"\n",
    "\n",
    "# Remplacez \"<votre_cle_tavily>\" par votre clé API OpenAI\n",
    "os.environ[\"TAVILY_API_KEY\"] = \"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\""
   ]
  },
  {
   "cell_type": "markdown",
   "id": "bd4ee87a-d618-43f4-bedd-33c538d1cbae",
   "metadata": {},
   "source": [
    "### 1. Chargement de l'outil Tavily\n",
    "\n",
    "Nous allons charger l'outil **TavilySearchResults**, qui nous permet d'effectuer des recherches sur internet. Cet outil est précieux pour enrichir notre agent avec des informations récentes.\n",
    "Nous importons l'outil TavilySearchResults et nous l'initialisons avec un maximum de 4 résultats par recherche. Cela nous permet de limiter les réponses et d'éviter une surcharge d'informations :"
   ]
  },
  {
   "cell_type": "code",
   "execution_count": 2,
   "id": "cf61ef23-56da-4920-bfba-032dbf918c6c",
   "metadata": {},
   "outputs": [
    {
     "name": "stdout",
     "output_type": "stream",
     "text": [
      "<class 'langchain_community.tools.tavily_search.tool.TavilySearchResults'>\n",
      "tavily_search_results_json\n"
     ]
    }
   ],
   "source": [
    "from langchain_community.tools.tavily_search import TavilySearchResults\n",
    "\n",
    "tool = TavilySearchResults(max_results=4)\n",
    "print(type(tool))\n",
    "print(tool.name)"
   ]
  },
  {
   "cell_type": "markdown",
   "id": "76bffb6d-8633-494f-a05b-787a1b94e37f",
   "metadata": {},
   "source": [
    "### 2. Définition de l'état de l'agent\n",
    "\n",
    "Dans cette section, nous définissons la structure de l'état de l'agent. Cet état est utilisé pour suivre les messages échangés entre l'utilisateur, le modèle, et les outils.\n",
    "Nous utilisons ici **TypedDict** pour définir une classe qui va conserver les messages échangés au sein de l'agent. Le champ **messages** permet de stocker chaque interaction pour que l'agent puisse se souvenir de la conversation et agir en conséquence :"
   ]
  },
  {
   "cell_type": "code",
   "execution_count": 3,
   "id": "39f9a5e0-3588-48de-820c-a2b88120a1e0",
   "metadata": {},
   "outputs": [],
   "source": [
    "import operator\n",
    "from typing import TypedDict, Annotated\n",
    "from langchain_core.messages import AnyMessage\n",
    "\n",
    "class AgentState(TypedDict):\n",
    "    messages: Annotated[list[AnyMessage], operator.add]"
   ]
  },
  {
   "cell_type": "markdown",
   "id": "6ae4908c-549b-4b70-a550-cad1bfa10cc6",
   "metadata": {},
   "source": [
    "### 3. Création de l'agent\n",
    "\n",
    "Passons maintenant à la création de l'agent. Cette classe **Agent** définit le comportement de notre agent, y compris la façon dont il utilise les outils disponibles et interagit avec le modèle de langage.\n",
    "\n",
    "La classe **Agent** permet de définir la logique de notre agent. \n",
    "- Elle utilise un **StateGraph** pour contrôler les différentes étapes, à savoir appeler le modèle OpenAI et utiliser des outils pour répondre aux demandes.\n",
    "- Les fonctions **call_openai** et **take_action** définissent la façon dont l'agent communique avec le modèle et prend des actions respectives.\n",
    "- Les outils utilisés sont stockés dans **self.tools** et sont liés au modèle via **self.model**."
   ]
  },
  {
   "cell_type": "code",
   "execution_count": 4,
   "id": "1706eaac-c340-4416-a523-19952925778e",
   "metadata": {},
   "outputs": [],
   "source": [
    "from langchain_groq import ChatGroq\n",
    "from langgraph.graph import StateGraph, END\n",
    "from langchain_core.messages import SystemMessage, HumanMessage, ToolMessage\n",
    "\n",
    "\n",
    "class Agent:\n",
    "\n",
    "    def __init__(self, model, tools, system=\"\"):\n",
    "        # Initialise l'agent avec un modèle de langage, des outils, et une configuration système.\n",
    "        self.system = system\n",
    "        graph = StateGraph(AgentState)\n",
    "        graph.add_node(\"llm\", self.call_llm)\n",
    "        graph.add_node(\"action\", self.take_action)\n",
    "        graph.add_conditional_edges(\n",
    "            \"llm\",\n",
    "            self.exists_action,\n",
    "            {True: \"action\", False: END}\n",
    "        )\n",
    "        graph.add_edge(\"action\", \"llm\")\n",
    "        graph.set_entry_point(\"llm\")\n",
    "        self.graph = graph.compile()\n",
    "        self.tools = {t.name: t for t in tools}\n",
    "        self.model = model.bind_tools(tools)\n",
    "\n",
    "    def exists_action(self, state: AgentState):\n",
    "        # Vérifie si une action est nécessaire après la dernière réponse du modèle.\n",
    "        result = state['messages'][-1]\n",
    "        return len(result.tool_calls) > 0\n",
    "\n",
    "    def call_llm(self, state: AgentState):\n",
    "        # Appelle le modèle de langage pour obtenir une réponse en fonction des messages précédents.\n",
    "        messages = state['messages']\n",
    "        if self.system:\n",
    "            messages = [SystemMessage(content=self.system)] + messages\n",
    "        message = self.model.invoke(messages)\n",
    "        return {'messages': [message]}\n",
    "\n",
    "    def take_action(self, state: AgentState):\n",
    "        # Exécute les actions spécifiées par le modèle de langage, en utilisant les outils disponibles.\n",
    "        tool_calls = state['messages'][-1].tool_calls\n",
    "        results = []\n",
    "        for t in tool_calls:\n",
    "            print(f\"Calling: {t}\")\n",
    "            if not t['name'] in self.tools:      # check for bad tool name from LLM\n",
    "                print(\"\\n ....bad tool name....\")\n",
    "                result = \"bad tool name, retry\"  # instruct LLM to retry if bad\n",
    "            else:\n",
    "                result = self.tools[t['name']].invoke(t['args'])\n",
    "            results.append(ToolMessage(tool_call_id=t['id'], name=t['name'], content=str(result)))\n",
    "        print(\"Back to the model!\")\n",
    "        return {'messages': results}"
   ]
  },
  {
   "cell_type": "markdown",
   "id": "c24c03b1-5d3a-4fd9-bed0-d616b99a8ec5",
   "metadata": {},
   "source": [
    "### 4. Instanciation de l'agent\n",
    "\n",
    "Maintenant, nous allons créer une instance de notre agent et lui fournir un prompt système. Ce prompt va définir le rôle de notre agent en tant qu'assistant de recherche intelligent.\n",
    "Avec cette configuration, l'agent va se comporter comme un assistant de recherche. Le modèle utilisé est GPT-3.5-Turbo pour minimiser les coûts d'inférence :"
   ]
  },
  {
   "cell_type": "code",
   "execution_count": 5,
   "id": "1a5efd5c-1faa-41c6-9823-3345a2135958",
   "metadata": {},
   "outputs": [],
   "source": [
    "#1\n",
    "prompt = \"\"\"You are a smart research assistant. Use the search engine to look up information. \\\n",
    "You are allowed to make multiple calls (either together or in sequence). \\\n",
    "Only look up information when you are sure of what you want. \\\n",
    "If you need to look up some information before asking a follow up question, you are allowed to do that!\n",
    "\"\"\"\n",
    "\n",
    "#2 LLM\n",
    "model = ChatGroq(\n",
    "    model=\"llama-3.1-8b-instant\",\n",
    "    temperature=0.0,\n",
    "    max_retries=2,\n",
    "    # other params...\n",
    ")\n",
    "\n",
    "#3\n",
    "agent = Agent(model, [tool], system=prompt)"
   ]
  },
  {
   "cell_type": "markdown",
   "id": "a0c96e5d-60fb-40e0-a51a-d96a1f7a1b8a",
   "metadata": {},
   "source": [
    "### 5. Visualisation du graph de l'agent\n",
    "\n",
    "Visualisons le graphe établi par notre agent pour comprendre les différentes étapes de traitement.\n",
    "\n",
    "Cette image montre le flux de travail de l'agent, où chaque noeud représente une étape importante dans l'exécution de l'agent, depuis l'appel au modèle jusqu'à la prise d'action :\n"
   ]
  },
  {
   "cell_type": "code",
   "execution_count": 6,
   "id": "414eb3c2-9f6f-4ceb-9bed-c6fc262bb939",
   "metadata": {},
   "outputs": [
    {
     "data": {
      "image/jpeg": "[encoded data removed]",
      "text/plain": [
       "<IPython.core.display.Image object>"
      ]
     },
     "execution_count": 6,
     "metadata": {},
     "output_type": "execute_result"
    }
   ],
   "source": [
    "\n",
    "from IPython.display import Image\n",
    "\n",
    "Image(agent.graph.get_graph().draw_mermaid_png())"
   ]
  },
  {
   "cell_type": "markdown",
   "id": "b23724bb-686a-408d-b771-98d4f4c4fe5d",
   "metadata": {},
   "source": [
    "### 6. Utilisation simple\n",
    "\n",
    "Essayons d'utiliser l'agent pour poser une question simple concernant la météo. Et regardons le résultat complet :"
   ]
  },
  {
   "cell_type": "code",
   "execution_count": 9,
   "id": "d7fb72a7-0de1-40e2-a027-3de732f62968",
   "metadata": {},
   "outputs": [
    {
     "name": "stdout",
     "output_type": "stream",
     "text": [
      "Calling: {'name': 'tavily_search_results_json', 'args': {'query': 'Paris weather today'}, 'id': 'call_py0w', 'type': 'tool_call'}\n",
      "Back to the model!\n",
      "\n",
      " Result :\n",
      "{'messages': [HumanMessage(content='What is the weather in Paris?', additional_kwargs={}, response_metadata={}), AIMessage(content='', additional_kwargs={'tool_calls': [{'id': 'call_py0w', 'function': {'arguments': '{\"query\": \"Paris weather today\"}', 'name': 'tavily_search_results_json'}, 'type': 'function'}]}, response_metadata={'token_usage': {'completion_tokens': 20, 'prompt_tokens': 350, 'total_tokens': 370, 'completion_time': 0.026666667, 'prompt_time': 0.064707895, 'queue_time': 0.296926722, 'total_time': 0.091374562}, 'model_name': 'llama-3.1-8b-instant', 'system_fingerprint': 'fp_bc861211a5', 'finish_reason': 'tool_calls', 'logprobs': None}, id='run-4b3a2fb4-36d7-460e-bf9c-3f1c7cc222f5-0', tool_calls=[{'name': 'tavily_search_results_json', 'args': {'query': 'Paris weather today'}, 'id': 'call_py0w', 'type': 'tool_call'}], usage_metadata={'input_tokens': 350, 'output_tokens': 20, 'total_tokens': 370}), ToolMessage(content='[{\\'url\\': \\'https://www.weatherapi.com/\\', \\'content\\': \"{\\'location\\': {\\'name\\': \\'Paris\\', \\'region\\': \\'Ile-de-France\\', \\'country\\': \\'France\\', \\'lat\\': 48.8667, \\'lon\\': 2.3333, \\'tz_id\\': \\'Europe/Paris\\', \\'localtime_epoch\\': 1744821062, \\'localtime\\': \\'2025-04-16 18:31\\'}, \\'current\\': {\\'last_updated_epoch\\': 1744821000, \\'last_updated\\': \\'2025-04-16 18:30\\', \\'temp_c\\': 13.1, \\'temp_f\\': 55.6, \\'is_day\\': 1, \\'condition\\': {\\'text\\': \\'Sunny\\', \\'icon\\': \\'//cdn.weatherapi.com/weather/64x64/day/113.png\\', \\'code\\': 1000}, \\'wind_mph\\': 4.7, \\'wind_kph\\': 7.6, \\'wind_degree\\': 174, \\'wind_dir\\': \\'S\\', \\'pressure_mb\\': 1010.0, \\'pressure_in\\': 29.83, \\'precip_mm\\': 0.0, \\'precip_in\\': 0.0, \\'humidity\\': 47, \\'cloud\\': 0, \\'feelslike_c\\': 12.7, \\'feelslike_f\\': 54.9, \\'windchill_c\\': 14.9, \\'windchill_f\\': 58.9, \\'heatindex_c\\': 15.0, \\'heatindex_f\\': 59.0, \\'dewpoint_c\\': 1.5, \\'dewpoint_f\\': 34.8, \\'vis_km\\': 10.0, \\'vis_miles\\': 6.0, \\'uv\\': 0.8, \\'gust_mph\\': 5.7, \\'gust_kph\\': 9.3}}\"}, {\\'url\\': \\'https://www.easeweather.com/europe/france/ile-de-france/paris/april\\', \\'content\\': \\'| 15 Apr. | \\\\nPatchy rain possible\\\\n| 6° /1° | 0.2\\\\xa0mm | 1 |  |\\\\n| 16 Apr. | \\\\nPartly cloudy\\\\n| 14° /4° | 0.2\\\\xa0mm | 4 |  |\\\\n| 17 Apr. | \\\\nPartly cloudy\\\\n| 14° /4° | 1.1\\\\xa0mm | 4 |  |\\\\n| 18 Apr. | \\\\nOvercast\\\\n| 14° /4° | 0.2\\\\xa0mm | 3 |  |\\\\n| 19 Apr. | \\\\nOvercast\\\\n| 15° /6° | 0.2\\\\xa0mm | 4 |  |\\\\n| 20 Apr. | \\\\nOvercast\\\\n| 13° /5° | 0.3\\\\xa0mm | 3 |  |\\\\n| 21 Apr. | \\\\nPatchy rain possible\\\\n| 15° /5° | 0.3\\\\xa0mm | 4 |  |\\\\n| 22 Apr. | \\\\nSunny\\\\n| 14° /5° | 3.6\\\\xa0mm | 4 |  |\\\\n| 23 Apr. | \\\\nModerate or heavy rain shower [...] April\\\\nJanuaryFebruaryMarch\\\\nApril\\\\nMayJuneJulyAugustSeptemberOctoberNovemberDecember\\\\nWeather in Paris for April 2025\\\\nYour guide to Paris weather in April - trends and predictions\\\\nTemperatures\\\\n\\\\n\\\\nThe forecast for the next days in Paris predicts temperatures to be around 17\\\\xa0°C, close to the historical average. [...] 12\\\\nDry days\\\\n\\\\n18\\\\nRainy days\\\\n\\\\n0\\\\nSnow days\\\\n\\\\n14°/6°\\\\nTemperatures\\\\n\\\\n18\\\\xa0km/h\\\\nAvg max wind\\\\n\\\\n66 %\\\\nAvg humidity\\'}, {\\'url\\': \\'https://en.climate-data.org/europe/france/ile-de-france/paris-44/t/april-4/\\', \\'content\\': \\'(46.6) °F\\\\n\\\\n11.6 °C\\\\n\\\\n(52.9) °F\\\\n\\\\n15.2 °C\\\\n\\\\n(59.4) °F\\\\n\\\\n18.6 °C\\\\n\\\\n(65.5) °F\\\\n\\\\n22.1 °C\\\\n\\\\n(71.8) °F\\\\n\\\\n24.2 °C\\\\n\\\\n(75.6) °F\\\\n\\\\n24 °C\\\\n\\\\n(75.3) °F\\\\n\\\\n20.9 °C\\\\n\\\\n(69.6) °F\\\\n\\\\n16.4 °C\\\\n\\\\n(61.5) °F\\\\n\\\\n10.7 °C\\\\n\\\\n(51.3) °F\\\\n\\\\n7.5 °C\\\\n\\\\n(45.4) °F\\\\n\\\\n57\\\\n\\\\n(2)\\\\n\\\\n52\\\\n\\\\n(2)\\\\n\\\\n53\\\\n\\\\n(2)\\\\n\\\\n56\\\\n\\\\n(2)\\\\n\\\\n69\\\\n\\\\n(2)\\\\n\\\\n63\\\\n\\\\n(2)\\\\n\\\\n60\\\\n\\\\n(2)\\\\n\\\\n60\\\\n\\\\n(2)\\\\n\\\\n51\\\\n\\\\n(2)\\\\n\\\\n65\\\\n\\\\n(2)\\\\n\\\\n64\\\\n\\\\n(2)\\\\n\\\\n70\\\\n\\\\n(2) [...] 11. April | 10 °C | 50 °F | 15 °C | 58 °F | 5 °C | 40 °F | 2.0 mm | 0.1 inch.\\\\n12. April | 9 °C | 49 °F | 14 °C | 57 °F | 5 °C | 40 °F | 1.7 mm | 0.1 inch.\\\\n13. April | 9 °C | 49 °F | 14 °C | 57 °F | 4 °C | 40 °F | 1.5 mm | 0.1 inch.\\\\n14. April | 10 °C | 49 °F | 14 °C | 57 °F | 5 °C | 41 °F | 1.6 mm | 0.1 inch.\\\\n15. April | 10 °C | 50 °F | 14 °C | 58 °F | 5 °C | 41 °F | 2.9 mm | 0.1 inch.\\\\n16. April | 10 °C | 50 °F | 14 °C | 57 °F | 5 °C | 41 °F | 2.6 mm | 0.1 inch. [...] Precipitation / Rainfall mm (in) | 57(2) | 52(2) | 53(2) | 56(2) | 69(2) | 63(2) | 60(2) | 60(2) | 51(2) | 65(2) | 64(2) | 70(2)\\\\nHumidity(%) | 85% | 81% | 76% | 71% | 71% | 68% | 65% | 66% | 71% | 79% | 86% | 86%\\\\nRainy days (d) | 9 | 8 | 8 | 9 | 9 | 8 | 8 | 7 | 6 | 8 | 9 | 10\\\\navg. Sun hours (hours) | 2.9 | 4.0 | 5.8 | 8.0 | 8.6 | 9.5 | 10.0 | 9.1 | 7.2 | 5.1 | 3.4 | 3.1\\\\n4.3 °C\\'}, {\\'url\\': \\'https://www.weather25.com/europe/france/ile-de-france/paris?page=month&month=April\\', \\'content\\': \\'Location was added to My Locations\\\\nLocation was removed from My Locations\\\\nMarch\\\\nMay\\\\nParis weather in April 2025\\\\nThe temperatures in Paris in April are quite cold with temperatures between 7°C and 16°C, warm clothes are a must.\\\\nYou can expect about 3 to 8 days of rain in Paris during the month of April. It’s a good idea to bring along your umbrella so that you don’t get caught in poor weather.\\\\nOur weather forecast can give you a great sense of what weather to expect in Paris in April 2025.\\'}]', name='tavily_search_results_json', tool_call_id='call_py0w'), AIMessage(content='The current weather in Paris is sunny with a temperature of 13.1°C (55.6°F). The forecast for the next few days predicts temperatures to be around 17°C, close to the historical average. There is a chance of rain on some days, but it is not expected to be heavy. It is recommended to bring warm clothes as the temperatures can be quite cold, especially in the mornings and evenings.', additional_kwargs={}, response_metadata={'token_usage': {'completion_tokens': 86, 'prompt_tokens': 2205, 'total_tokens': 2291, 'completion_time': 0.114666667, 'prompt_time': 0.136545643, 'queue_time': 0.086934015, 'total_time': 0.25121231}, 'model_name': 'llama-3.1-8b-instant', 'system_fingerprint': 'fp_8d1c73bd4c', 'finish_reason': 'stop', 'logprobs': None}, id='run-8c22afab-3399-4802-a992-c860a638cc62-0', usage_metadata={'input_tokens': 2205, 'output_tokens': 86, 'total_tokens': 2291})]}\n"
     ]
    }
   ],
   "source": [
    "messages = [HumanMessage(content=\"What is the weather in Paris?\")]\n",
    "result = agent.graph.invoke({\"messages\": messages})\n",
    "\n",
    "print('\\n Result :')\n",
    "print(result)"
   ]
  },
  {
   "cell_type": "markdown",
   "id": "9723b06f-61e0-4f8a-b4e8-7d716ba94672",
   "metadata": {},
   "source": [
    "Nous pouvons maintenant visualiser la réponse générée par notre agent :"
   ]
  },
  {
   "cell_type": "code",
   "execution_count": 10,
   "id": "3a50dc1c-7fde-46bc-a14e-e6a647a06fea",
   "metadata": {},
   "outputs": [
    {
     "name": "stdout",
     "output_type": "stream",
     "text": [
      "The current weather in Paris is sunny with a temperature of 13.1°C (55.6°F). The forecast for the next few days predicts temperatures to be around 17°C, close to the historical average. There is a chance of rain on some days, but it is not expected to be heavy. It is recommended to bring warm clothes as the temperatures can be quite cold, especially in the mornings and evenings.\n"
     ]
    }
   ],
   "source": [
    "print(result['messages'][-1].content)"
   ]
  },
  {
   "cell_type": "markdown",
   "id": "38f8d4e3-6930-4fd6-8dbe-61dd9c02c4ad",
   "metadata": {},
   "source": [
    "### 6. Utilisation avec plusieurs interactions\n",
    "\n",
    "Pour explorer un peu plus les capacités de l'agent, essayons une question plus complexe concernant la météo dans deux villes différentes.   \n",
    "Encore une fois, nous demandons à l'agent de récupérer des informations sur la météo mais cette fois-ci dans deux endroits différents. Cela permet de tester la capacité de l'agent à traiter plusieurs réponses simultanément."
   ]
  },
  {
   "cell_type": "code",
   "execution_count": 12,
   "id": "e71b82da-2f5b-4eca-9bb1-9250379ead77",
   "metadata": {},
   "outputs": [
    {
     "name": "stdout",
     "output_type": "stream",
     "text": [
      "Calling: {'name': 'tavily_search_results_json', 'args': {'query': 'SF weather today'}, 'id': 'call_tg1k', 'type': 'tool_call'}\n",
      "Back to the model!\n",
      "\n",
      " Result :\n",
      "The current weather in SF is cloudy with overcast skies and a temperature of 66°F (19.2°C) during the day and 54°F (12.2°C) at night.\n"
     ]
    }
   ],
   "source": [
    "messages = [HumanMessage(content=\"What is the weather in SF ?\")]\n",
    "result = agent.graph.invoke({\"messages\": messages})\n",
    "\n",
    "print('\\n Result :')\n",
    "print(result['messages'][-1].content)"
   ]
  },
  {
   "cell_type": "markdown",
   "id": "714a818b-f8f9-4b7c-9a04-3aa2ab287b0b",
   "metadata": {},
   "source": [
    "### 7. Utilisation avec une question composée\n",
    "\n",
    "Dans cet exemple, nous allons poser une question composée où l'agent doit effectuer des recherches successives pour fournir la réponse.  \n",
    "Nous utilisons un modèle plus avancé (GPT-4) pour obtenir des réponses précises sur plusieurs sujets liés entre eux. Cela montre comment l'agent peut naviguer à travers des requêtes complexes :"
   ]
  },
  {
   "cell_type": "code",
   "execution_count": 13,
   "id": "1892690d-eb18-4555-b6b4-391cab12f901",
   "metadata": {},
   "outputs": [
    {
     "name": "stdout",
     "output_type": "stream",
     "text": [
      "Calling: {'name': 'tavily_search_results_json', 'args': {'query': 'Super Bowl 2024 winner'}, 'id': 'call_g9bb', 'type': 'tool_call'}\n",
      "Back to the model!\n",
      "\n",
      " Result :\n",
      "The Kansas City Chiefs won Super Bowl LVIII (58) in 2024, defeating the San Francisco 49ers with a score of 25-22 in overtime. The winning team, the Kansas City Chiefs, is headquartered in Missouri. To provide the GDP of Missouri, I need to perform another search.\n"
     ]
    }
   ],
   "source": [
    "query = \"Who won the super bowl in 2024? In what state is the winning team headquarters located? \\\n",
    "What is the GDP of that state? Answer each question.\" \n",
    "messages = [HumanMessage(content=query)]\n",
    "\n",
    "model = ChatGroq(model=\"deepseek-r1-distill-llama-70b\")\n",
    "agent = Agent(model, [tool], system=prompt)\n",
    "\n",
    "result = agent.graph.invoke({\"messages\": messages})\n",
    "\n",
    "\n",
    "print('\\n Result :')\n",
    "print(result['messages'][-1].content)"
   ]
  },
  {
   "cell_type": "markdown",
   "id": "0f4c555d-8849-4475-8a3c-aa6ac96e1351",
   "metadata": {},
   "source": [
    "### Conclusion\n",
    "\n",
    "Vous avez maintenant une meilleure compréhension de la manière de créer et de configurer un agent avec **LangGraph**. Vous pouvez explorer davantage en ajoutant de nouveaux outils ou en modifiant le comportement de l'agent pour l'adapter à différents scénarios. Essayez de poser des questions variées et d'observer comment l'agent réagit !"
   ]
  },
  {
   "cell_type": "code",
   "execution_count": null,
   "id": "763f8b04-88c6-4dc1-9134-807875fe00e0",
   "metadata": {},
   "outputs": [],
   "source": []
  }
 ],
 "metadata": {
  "kernelspec": {
   "display_name": "Python 3 (ipykernel)",
   "language": "python",
   "name": "python3"
  },
  "language_info": {
   "codemirror_mode": {
    "name": "ipython",
    "version": 3
   },
   "file_extension": ".py",
   "mimetype": "text/x-python",
   "name": "python",
   "nbconvert_exporter": "python",
   "pygments_lexer": "ipython3",
   "version": "3.11.3"
  }
 },
 "nbformat": 4,
 "nbformat_minor": 5
}
